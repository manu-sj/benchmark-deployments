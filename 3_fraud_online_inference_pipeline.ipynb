{
 "cells": [
  {
   "cell_type": "markdown",
   "id": "d28eba60",
   "metadata": {},
   "source": [
    "# <span style=\"font-width:bold; font-size: 3rem; color:#1EB182;\"><img src=\"../images/icon102.png\" width=\"38px\"></img> **Hopsworks Feature Store** </span><span style=\"font-width:bold; font-size: 3rem; color:#333;\">- Part 03: Inference Pipeline</span>\n"
   ]
  },
  {
   "cell_type": "markdown",
   "id": "f16367c8",
   "metadata": {},
   "source": [
    "## <span style=\"color:#ff5f27;\"> 📡 Connecting to Hopsworks Feature Store </span>"
   ]
  },
  {
   "cell_type": "code",
   "execution_count": 23,
   "id": "ed952ece",
   "metadata": {},
   "outputs": [
    {
     "name": "stdout",
     "output_type": "stream",
     "text": [
      "2025-06-24 09:08:11,377 INFO: Closing external client and cleaning up certificates.\n",
      "Connection closed.\n",
      "2025-06-24 09:08:11,386 INFO: Initializing external client\n",
      "2025-06-24 09:08:11,386 INFO: Base URL: https://10.87.43.47:28181\n",
      "2025-06-24 09:08:12,139 INFO: Python Engine initialized.\n",
      "\n",
      "Logged in to project, explore it here https://10.87.43.47:28181/p/119\n"
     ]
    }
   ],
   "source": [
    "import hopsworks\n",
    "\n",
    "project = hopsworks.login()\n",
    "\n",
    "fs = project.get_feature_store()"
   ]
  },
  {
   "cell_type": "markdown",
   "id": "e98e32ce",
   "metadata": {},
   "source": [
    "## <span style=\"color:#ff5f27;\"> ⚙️ Feature Group Retrieval</span>\n",
    "Let's retrieve a feature group in order to get cc_num values."
   ]
  },
  {
   "cell_type": "code",
   "execution_count": 24,
   "id": "d2a8475b",
   "metadata": {},
   "outputs": [],
   "source": [
    "# Retrieve the 'transactions_fraud_online_fg' feature group\n",
    "trans_fg = fs.get_feature_group(\n",
    "    'transactions_fraud_online_fg',\n",
    "    version=1,\n",
    ")"
   ]
  },
  {
   "cell_type": "code",
   "execution_count": 25,
   "id": "c37c5197",
   "metadata": {},
   "outputs": [
    {
     "name": "stdout",
     "output_type": "stream",
     "text": [
      "Finished: Reading data from Hopsworks, using Hopsworks Feature Query Service (1.35s) \n"
     ]
    },
    {
     "data": {
      "text/plain": [
       "array([4307206161394478, 4991539658091830, 4556426990917111,\n",
       "       4897277640695450, 4123638178254919, 4215909337633098,\n",
       "       4883806594247243, 4565376751743421, 4134800299253298,\n",
       "       4598649623090127, 4454908897243389, 4628483972728572,\n",
       "       4837617840384848, 4359225696258815, 4758035858626403,\n",
       "       4689840185625851, 4893428073388709, 4899899195688156,\n",
       "       4564193664676304, 4834372953306161, 4277322646120192,\n",
       "       4536307339137659, 4322617096913250, 4382251375646022,\n",
       "       4167653876012714])"
      ]
     },
     "execution_count": 25,
     "metadata": {},
     "output_type": "execute_result"
    }
   ],
   "source": [
    "# Retrieve the first 5 unique credit card numbers (cc_nums)\n",
    "cc_nums = trans_fg.select('cc_num').show(25).cc_num.astype(int).values\n",
    "\n",
    "# Display the obtained cc_nums\n",
    "cc_nums"
   ]
  },
  {
   "cell_type": "markdown",
   "id": "903df073",
   "metadata": {},
   "source": [
    "## <span style='color:#ff5f27'>🚀 Fetch Deployment</span>"
   ]
  },
  {
   "cell_type": "code",
   "execution_count": 26,
   "id": "4303ac82",
   "metadata": {},
   "outputs": [
    {
     "name": "stdout",
     "output_type": "stream",
     "text": [
      "Deployment is already starting\n"
     ]
    }
   ],
   "source": [
    "# Access the Model Serving\n",
    "ms = project.get_model_serving()\n",
    "\n",
    "# Specify the deployment name\n",
    "deployment_name = \"fraudonlinemodeldeployment\"\n",
    "\n",
    "# Get the deployment with the specified name\n",
    "deployment = ms.get_deployment(deployment_name)\n",
    "\n",
    "# Start the deployment and wait for it to be in a running state for up to 300 seconds\n",
    "deployment.start(await_running=300)"
   ]
  },
  {
   "cell_type": "markdown",
   "id": "045ba7e4",
   "metadata": {},
   "source": [
    "## <span style='color:#ff5f27'>🔮 Predicting using deployment</span>\n",
    "\n",
    "\n",
    "Finally you can start making predictions with your model!\n",
    "\n",
    "Send inference requests to the deployed model as follows:"
   ]
  },
  {
   "cell_type": "code",
   "execution_count": 27,
   "id": "42196023",
   "metadata": {},
   "outputs": [],
   "source": [
    "# Get the first credit card number\n",
    "inputs = [{\"cc_num\":int(cc_num)} for cc_num in cc_nums]"
   ]
  },
  {
   "cell_type": "code",
   "execution_count": 28,
   "id": "de44f396-efb7-43ef-b8d1-619cd6d34e5b",
   "metadata": {},
   "outputs": [
    {
     "data": {
      "text/plain": [
       "[{'cc_num': 4307206161394478},\n",
       " {'cc_num': 4991539658091830},\n",
       " {'cc_num': 4556426990917111},\n",
       " {'cc_num': 4897277640695450},\n",
       " {'cc_num': 4123638178254919},\n",
       " {'cc_num': 4215909337633098},\n",
       " {'cc_num': 4883806594247243},\n",
       " {'cc_num': 4565376751743421},\n",
       " {'cc_num': 4134800299253298},\n",
       " {'cc_num': 4598649623090127},\n",
       " {'cc_num': 4454908897243389},\n",
       " {'cc_num': 4628483972728572},\n",
       " {'cc_num': 4837617840384848},\n",
       " {'cc_num': 4359225696258815},\n",
       " {'cc_num': 4758035858626403},\n",
       " {'cc_num': 4689840185625851},\n",
       " {'cc_num': 4893428073388709},\n",
       " {'cc_num': 4899899195688156},\n",
       " {'cc_num': 4564193664676304},\n",
       " {'cc_num': 4834372953306161},\n",
       " {'cc_num': 4277322646120192},\n",
       " {'cc_num': 4536307339137659},\n",
       " {'cc_num': 4322617096913250},\n",
       " {'cc_num': 4382251375646022},\n",
       " {'cc_num': 4167653876012714}]"
      ]
     },
     "execution_count": 28,
     "metadata": {},
     "output_type": "execute_result"
    }
   ],
   "source": [
    "inputs"
   ]
  },
  {
   "cell_type": "code",
   "execution_count": 35,
   "id": "596f3241",
   "metadata": {},
   "outputs": [
    {
     "name": "stdout",
     "output_type": "stream",
     "text": [
      "95.1 ms ± 4.82 ms per loop (mean ± std. dev. of 7 runs, 10 loops each)\n"
     ]
    }
   ],
   "source": [
    "%%timeit\n",
    "deployment.predict(inputs=inputs)"
   ]
  },
  {
   "cell_type": "code",
   "execution_count": null,
   "id": "445628bb",
   "metadata": {},
   "outputs": [],
   "source": [
    "# Read transformed log\n",
    "feature_view.read_log(transformed=True).head(3)"
   ]
  },
  {
   "cell_type": "markdown",
   "id": "0b02e2bd",
   "metadata": {},
   "source": [
    "### Stop Deployment\n",
    "To stop the deployment you simply run:"
   ]
  },
  {
   "cell_type": "code",
   "execution_count": null,
   "id": "b90b4c19",
   "metadata": {},
   "outputs": [],
   "source": [
    "# Stop the deployment\n",
    "deployment.stop(await_stopped=180)"
   ]
  },
  {
   "cell_type": "markdown",
   "id": "93360014",
   "metadata": {},
   "source": [
    "## <span style=\"color:#ff5f27;\">👾 StreamLit App</span>\n",
    "\n",
    "\n",
    "If you want to see interactive dashboards - use a **StreamLit App**.\n",
    "\n",
    "Type the next commands in terminal to run a Streamlit App:\n",
    "\n",
    "`python -m streamlit run streamlit_app.py`"
   ]
  },
  {
   "cell_type": "markdown",
   "id": "8d98d2a0",
   "metadata": {},
   "source": [
    "---\n",
    "\n",
    "### <span style=\"color:#ff5f27;\">🥳 <b> Next Steps  </b> </span>\n",
    "Congratulations you've now completed the Fraud Online tutorial for Managed Hopsworks.\n",
    "\n",
    "Check out our other tutorials on ➡ https://github.com/logicalclocks/hopsworks-tutorials\n",
    "\n",
    "Or documentation at ➡ https://docs.hopsworks.ai"
   ]
  }
 ],
 "metadata": {
  "kernelspec": {
   "display_name": "Python 3 (ipykernel)",
   "language": "python",
   "name": "python3"
  },
  "language_info": {
   "codemirror_mode": {
    "name": "ipython",
    "version": 3
   },
   "file_extension": ".py",
   "mimetype": "text/x-python",
   "name": "python",
   "nbconvert_exporter": "python",
   "pygments_lexer": "ipython3",
   "version": "3.10.18"
  }
 },
 "nbformat": 4,
 "nbformat_minor": 5
}
